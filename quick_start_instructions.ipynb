{
 "cells": [
  {
   "cell_type": "markdown",
   "metadata": {},
   "source": [
    "# Automated Post Processing Quick Start\n",
    "\n",
    "\n",
    "\n",
    "This utility has been designed with the goal of being as simple to use as possible, but there are a number of configuration options that must be set before the first run. You will need to collect a few nessesary pieces of information. This document will assume you're running on the acme1.llnl.gov server, but the only thing that would be different if running elsewhere would be paths. All this information will need to be written to the run configuration file run.cfg.\n"
   ]
  },
  {
   "cell_type": "markdown",
   "metadata": {},
   "source": [
    "## Setup\n",
    "\n",
    "#### The model run directory on the compute machine. \n",
    "\n",
    "An example would be the 20170313.beta1_2 run by Chris Golaz on Edison: /scratch2/scratchdirs/golaz/ACME_simulations/20170313.beta1_02.A_WCYCL1850S.ne30_oECv3_ICG.edison/run. \n",
    "\n",
    "This path should be written to the run.cfg under \n",
    "* [transfer] source_path = /remote/model/path/run"
   ]
  },
  {
   "cell_type": "markdown",
   "metadata": {},
   "source": [
    "#### Your desired output path. \n",
    "\n",
    "An example would be /p/cscratch/acme/[USERNAME]/output_20170313\n",
    "This should be written to \n",
    "* [global] output_path = /your/output/path\n",
    "\n",
    "#### The local model storage path.\n",
    "\n",
    "Example: /p/cscratch/acme/[USERNAME]/input_20170313\n",
    "This should be written to \n",
    "* [global] input_path = /your/input/path"
   ]
  },
  {
   "cell_type": "markdown",
   "metadata": {},
   "source": [
    "#### The length of the simulation. \n",
    "\n",
    "This doesnt have to match the actual model run, its for our purposes only. If the simulation ran for 100 years, but you only want to run against the first 50 years, thats fine. Conversely, if the simulation is currently running and is only 5 year in, you can set the end year to be 100 years even if it doesnt produce 100 years of output. The simulation start year is assumed to be 1, but you can set it to anything you like.\n",
    "\n",
    "This should be written to \n",
    "* [global] simulation_end_year = SOMENUMBER"
   ]
  },
  {
   "cell_type": "markdown",
   "metadata": {},
   "source": [
    "#### The run frequency\n",
    "\n",
    "This is the length of each set of diagnostic runs. If you set it to 10 years, then for every 10 years the climatologies, time series, and diagnostics will be produced. This value is a list of year lengths, so you could set it to [10, 50], which would cause output to be generated for every ten year span as well as every 50 year span.\n",
    "\n",
    "This should be written to \n",
    "* [global] set_frequency = [LIST, OF, NUMBERS]"
   ]
  },
  {
   "cell_type": "markdown",
   "metadata": {},
   "source": [
    "#### The run id.\n",
    "\n",
    "This is a unique name for this run of the automated post processor. This is needed to differentiate the paths to the diagnostic output. If you were using the example model, an appropriate run_id would be 20170313.beta1_02\n",
    "\n",
    "This should be written to \n",
    "* [global] run_id = YOUR_RUN_ID"
   ]
  },
  {
   "cell_type": "markdown",
   "metadata": {},
   "source": [
    "#### compute_username and compute_password\n",
    "\n",
    "Although its not required to add your password to the config file, it makes the run process faster.This should be written to:\n",
    "\n",
    "* [monitor] compute_username = YOUR_EDISON_USERNAME and [monitor] compute_password = YOUR_EDISON_PASSWORD\n",
    "\n",
    "#### processing_username and processing_password\n",
    "\n",
    "* [transfer] processing_username = YOU_ACME1_USERNAME\n",
    "* [transfer] processing_password = YOUR_ACME1_PASSWORD\n",
    "* [transfer] globus_username = YOUR_GLOBUS_USERNAME \n",
    "* [transfer] globus_password = YOUR_GLOBUS_PASSWORD"
   ]
  },
  {
   "cell_type": "markdown",
   "metadata": {},
   "source": [
    "### Example run configuration\n",
    "\n",
    "This may seam like a lot of stuff, but you only need to adust the keys mentioned above. Everything else is needed for the run, but the default values shouldn't need to be changed.\n",
    "\n",
    "```\n",
    "[global]\n",
    "output_path = /p/cscratch/acme/[YOUR_USERNAME]/output_20170313\n",
    "data_cache_path = /p/cscratch/acme/[YOUR_USERNAME]/input_20170313\n",
    "output_patterns = {\"STREAMS\":\"streams\", \"ATM\":\"cam.h0\", \"MPAS_AM\": \"mpaso.hist.am.timeSeriesStatsMonthly\", \"MPAS_CICE\":\"mpascice.hist.am.timeSeriesStatsMonthly\", \"MPAS_RST\": \"mpaso.rst.0\", \"MPAS_O_IN\": \"mpas-o_in\", \"MPAS_CICE_IN\": \"mpas-cice_in\"}\n",
    "simulation_start_year =  1\n",
    "simulation_end_year = 20\n",
    "set_frequency = [10]\n",
    "experiment = case_scripts\n",
    "batch_system_type = slurm\n",
    "run_id = 20170313.beta1_2\n",
    "img_host_server = https://acme-viewer.llnl.gov\n",
    "\n",
    "[amwg]\n",
    "diag_home = /p/cscratch/acme/amwg/amwg_diag\n",
    "host_directory = /var/www/html/amwg\n",
    "host_prefix = amwg\n",
    "\n",
    "[monitor]\n",
    "compute_host = edison.nersc.gov\n",
    "compute_username = YOUR_EDISON_USERNAME\n",
    "compute_password = YOUR_EDISON_PASSWORD\n",
    "\n",
    "[ncclimo]\n",
    "regrid_map_path = /p/cscratch/acme/data/map_ne30np4_to_fv129x256_aave.20150901.nc\n",
    "ncclimo_path = /p/cscratch/acme/bin\n",
    "var_list = FSNTOA,FLUT,FSNT,FLNT,FSNS,FLNS,SHFLX,QFLX,PRECC,PRECL,PRECSC,PRECSL,TS,TREFHT\n",
    "\n",
    "[uvcmetrics]\n",
    "obs_for_diagnostics_path = /p/cscratch/acme/data/obs_for_diagnostics\n",
    "host_prefix = uvcmetrics\n",
    "\n",
    "[coupled_diags]\n",
    "host_directory = /var/www/html/coupled_diag\n",
    "host_prefix = coupled\n",
    "coupled_diags_home = /p/cscratch/acme/data/PreAndPostProcessingScripts/coupled_diags\n",
    "mpas_meshfile = /p/cscratch/acme/data/mapping/gridfile.oEC60to30.nc\n",
    "mpas_remapfile = /p/cscratch/acme/data/mapping/map_oEC60to30_TO_0.5x0.5degree_blin.160412.nc \n",
    "pop_remapfile = /p/cscratch/acme/data/mapping/map_gx1v6_TO_0.5x0.5degree_blin.160413.nc \n",
    "remap_files_dir = /p/cscratch/acme/data/mapping/maps\n",
    "gpcp_regrid_wgt_file = /p/cscratch/acme/data/ne30-to-GPCP.conservative.wgts.nc \n",
    "ceres_ebaf_regrid_wgt_file = /p/cscratch/acme/data/ne30-to-CERES-EBAF.conservative.wgts.nc \n",
    "ers_regrid_wgt_file = /p/cscratch/acme/data/ne30-to-ERS.conservative.wgts.nc \n",
    "test_native_res = ne30 \n",
    "yr_offset =  1849\n",
    "ref_case = obs \n",
    "ref_archive_dir = /p/cscratch/acme/data/obs_for_diagnostics \n",
    "ref_case_dir = /p/cscratch/acme/data/obs_for_diagnostics \n",
    "test_native_res = ne30 \n",
    "obs_ocndir = /p/cscratch/acme/data/observations/Ocean \n",
    "obs_seaicedir = /p/cscratch/acme/data/observations/SeaIce \n",
    "obs_sstdir = /p/cscratch/acme/data/observations/Ocean/SST \n",
    "obs_iceareaNH = /p/cscratch/acme/data/observations/SeaIce/IceArea_timeseries/iceAreaNH_climo.nc \n",
    "obs_iceareaSH = /p/cscratch/acme/data/observations/SeaIce/IceArea_timeseries/iceAreaSH_climo.nc \n",
    "obs_icevolNH = /p/cscratch/acme/data/observations/SeaIce/PIOMAS/PIOMASvolume_monthly_climo.nc\n",
    "\n",
    "\n",
    "[upload_diagnostic]\n",
    "diag_viewer_username = btest\n",
    "diag_viewer_password = test\n",
    "diag_viewer_server = https://acme-viewer.llnl.gov\n",
    "\n",
    "[transfer]\n",
    "source_path =  /scratch2/scratchdirs/golaz/ACME_simulations/20170313.beta1_02.A_WCYCL1850S.ne30_oECv3_ICG.edison/run \n",
    "source_endpoint = b9d02196-6d04-11e5-ba46-22000b92c6ec\n",
    "destination_endpoint = 43d64772-a82e-11e5-99d3-22000b96db58\n",
    "processing_host = acme1.llnl.gov \n",
    "processing_username = YOUR_ACME1_USERNAME\n",
    "processing_password = YOUR_ACME1_PASSWORD\n",
    "globus_username = YOUR_GLOBUS_USERNAME\n",
    "globus_password = YOUR_GLOBUS_PASSWORD\n",
    "```"
   ]
  },
  {
   "cell_type": "markdown",
   "metadata": {},
   "source": [
    "### Running\n",
    "\n",
    "Once the setup process is done, running is simple. Simply activate your conda environment, and run the following command to start the post processor in interactive mode:\n",
    "\n",
    "    python workflow.py -c run.cfg\n",
    "\n",
    "This will start a new run, and start downloading the data. \n",
    "\n",
    "![initial run](https://github.com/sterlingbaldwin/acme_workflow/blob/master/resources/initial_run.png)\n",
    "\n",
    "Once globus has transfered the first year_set of data, it will start running the post processing jobs.\n",
    "\n",
    "![run in progress](https://github.com/sterlingbaldwin/acme_workflow/blob/master/resources/run_in_process.png)"
   ]
  },
  {
   "cell_type": "markdown",
   "metadata": {},
   "source": [
    "### Subsequent runs\n",
    "\n",
    "After your initial setup, to start new runs the only values you should need to change are\n",
    "```\n",
    "[global] output_path\n",
    "[global] data_cache_path\n",
    "[global] set_frequency\n",
    "[global] simulation_end_year\n",
    "[global] run_id\n",
    "[transfer] source_path\n",
    "```"
   ]
  },
  {
   "cell_type": "code",
   "execution_count": null,
   "metadata": {
    "collapsed": true
   },
   "outputs": [],
   "source": []
  }
 ],
 "metadata": {
  "anaconda-cloud": {},
  "kernelspec": {
   "display_name": "Python [Root]",
   "language": "python",
   "name": "Python [Root]"
  },
  "language_info": {
   "codemirror_mode": {
    "name": "ipython",
    "version": 2
   },
   "file_extension": ".py",
   "mimetype": "text/x-python",
   "name": "python",
   "nbconvert_exporter": "python",
   "pygments_lexer": "ipython2",
   "version": "2.7.12"
  }
 },
 "nbformat": 4,
 "nbformat_minor": 0
}
