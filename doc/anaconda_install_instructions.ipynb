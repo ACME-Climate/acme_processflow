{
 "cells": [
  {
   "cell_type": "markdown",
   "metadata": {},
   "source": [
    "# Anaconda install instructions\n",
    "\n",
    "* First get the installer.\n",
    "\n",
    "    wget https://repo.continuum.io/archive/Anaconda2-4.3.1-Linux-x86_64.sh\n",
    "\n",
    "\n",
    "* Once the download is complete, run the script.\n",
    "\n",
    "    bash Anaconda2-4.3.1-Linux-x86_64.sh\n",
    "    \n",
    "    \n",
    "* The installer will ask you some questions, unless you want to customize it in some way, just type 'yes' and hit enter for all of them.\n",
    "\n",
    "\n",
    "* Start a new bash shell with the new environment variables.\n",
    "\n",
    "    bash "
   ]
  }
 ],
 "metadata": {
  "kernelspec": {
   "display_name": "Python [Root]",
   "language": "python",
   "name": "Python [Root]"
  },
  "language_info": {
   "codemirror_mode": {
    "name": "ipython",
    "version": 2
   },
   "file_extension": ".py",
   "mimetype": "text/x-python",
   "name": "python",
   "nbconvert_exporter": "python",
   "pygments_lexer": "ipython2",
   "version": "2.7.12"
  }
 },
 "nbformat": 4,
 "nbformat_minor": 0
}
