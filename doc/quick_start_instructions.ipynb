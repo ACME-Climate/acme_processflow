{
 "cells": [
  {
   "cell_type": "markdown",
   "metadata": {},
   "source": [
    "# Automated Post Processing Quick Start\n",
    "\n",
    "\n",
    "\n",
    "This utility has been designed with the goal of being as simple to use as possible, but there are a number of configuration options that must be set before the first run. You will need to collect a few nessesary pieces of information. This document will assume you're running on the acme1.llnl.gov server, but the only thing that would be different if running elsewhere would be paths. All this information will need to be written to the run configuration file run.cfg.\n"
   ]
  },
  {
   "cell_type": "markdown",
   "metadata": {},
   "source": [
    "## Setup\n",
    "\n",
    "### First time setup keys\n",
    "\n",
    "The keys you need to change before running the first time are:\n",
    "\n",
    "1. [transfer] source_path\n",
    "2. [global] output_path = /your/output/path\n",
    "3. [global] input_path = /your/input/path\n",
    "4. [global] simulation_end_year = SOMENUMBER\n",
    "5. [global] set_frequency = [LIST, OF, NUMBERS]\n",
    "6. [global] run_id = YOUR_RUN_ID\n",
    "7. [monitor] compute_username = YOUR_EDISON_USERNAME\n",
    "8. [monitor] compute_password = YOUR_EDISON_PASSWORD (optional)\n",
    "9. [transfer] processing_username = YOU_ACME1_USERNAME\n",
    "10. [transfer] processing_password = YOUR_ACME1_PASSWORD (optional)\n",
    "11. [transfer] globus_username = YOUR_GLOBUS_USERNAME\n",
    "12. [transfer] globus_password = YOUR_GLOBUS_PASSWORD (optional)\n",
    "\n",
    "Once these are set, only the input/output paths and run_id need to be changed for each subsequent run.\n",
    "\n",
    "#### The model run directory on the compute machine. \n",
    "\n",
    "This is the output directory for the model on the HPC facility. An example would be the 20170313.beta1_2 run by Chris Golaz on Edison:\n",
    "\n",
    "    /scratch2/scratchdirs/golaz/ACME_simulations/20170313.beta1_02.A_WCYCL1850S.ne30_oECv3_ICG.edison/run\n",
    "\n",
    "This path should be written to the run.cfg under \n",
    "* [transfer] source_path = /remote/model/path/run"
   ]
  },
  {
   "cell_type": "markdown",
   "metadata": {},
   "source": [
    "#### Your desired output path. \n",
    "\n",
    "This is the directory that all post processing will be placed in. An example would be:      \n",
    "\n",
    "    /p/cscratch/acme/[USERNAME]/output_20170313\n",
    "\n",
    "This should be written to \n",
    "* [global] output_path = /your/output/path\n",
    "\n",
    "#### The local model storage path.\n",
    "\n",
    "This is the local location that the model data will be stored. An example: \n",
    "\n",
    "    /p/cscratch/acme/[USERNAME]/input_20170313\n",
    "\n",
    "\n",
    "This should be written to \n",
    "* [global] input_path = /your/input/path"
   ]
  },
  {
   "cell_type": "markdown",
   "metadata": {},
   "source": [
    "#### The length of the simulation. \n",
    "\n",
    "This is the end year of the simulation. This doesnt have to match the actual model run, its for our purposes only. If the simulation ran for 100 years, but you only want to run against the first 50 years, thats fine. Conversely, if the simulation is currently running and is only 5 year in, you can set the end year to be 100 years even if it doesnt produce 100 years of output. The simulation start year is assumed to be 1, but you can set it to anything you like.\n",
    "\n",
    "This should be written to \n",
    "* [global] simulation_end_year = SOMENUMBER"
   ]
  },
  {
   "cell_type": "markdown",
   "metadata": {},
   "source": [
    "#### The run frequency\n",
    "\n",
    "This is the length of each set of diagnostic runs. If you set it to 10 years, then for every 10 years the climatologies, time series, and diagnostics will be produced. This value is a list of year lengths, so you could set it to [10, 50], which would cause output to be generated for every ten year span as well as every 50 year span.\n",
    "\n",
    "This should be written to \n",
    "* [global] set_frequency = [LIST, OF, NUMBERS]"
   ]
  },
  {
   "cell_type": "markdown",
   "metadata": {},
   "source": [
    "#### The run id.\n",
    "\n",
    "This is a unique name for this run of the automated post processor. This is needed to differentiate the paths to the diagnostic output. If you were using the example model, an appropriate run_id would be 20170313.beta1_02\n",
    "\n",
    "This should be written to \n",
    "* [global] run_id = YOUR_RUN_ID"
   ]
  },
  {
   "cell_type": "markdown",
   "metadata": {},
   "source": [
    "#### compute_username and compute_password\n",
    "\n",
    "Although its not required to add your password to the config file, it makes the run process faster.This should be written to:\n",
    "\n",
    "* [monitor] compute_username = YOUR_EDISON_USERNAME and [monitor] compute_password = YOUR_EDISON_PASSWORD\n",
    "\n",
    "#### processing_username and processing_password\n",
    "\n",
    "* [transfer] processing_username = YOU_ACME1_USERNAME\n",
    "* [transfer] processing_password = YOUR_ACME1_PASSWORD\n",
    "* [transfer] globus_username = YOUR_GLOBUS_USERNAME \n",
    "* [transfer] globus_password = YOUR_GLOBUS_PASSWORD"
   ]
  },
  {
   "cell_type": "markdown",
   "metadata": {},
   "source": [
    "### Example run configuration\n",
    "\n",
    "This may seam like a lot of stuff, but you only need to adust the keys mentioned above. Everything else is needed for the run, but the default values shouldn't need to be changed.\n",
    "\n",
    "You can find a complete sample run.cfg [here](../run.cfg)"
   ]
  },
  {
   "cell_type": "markdown",
   "metadata": {},
   "source": [
    "### Running\n",
    "\n",
    "* Once the setup process is done, running is simple. Simply activate your conda environment, and run the following command to start the post processor in interactive mode:\n",
    "\n",
    "    python workflow.py -c run.cfg\n",
    "\n",
    "This will start a new run, and start downloading the data. \n",
    "\n",
    "![initial run](../doc/initial_run.png)\n",
    "\n",
    "Once globus has transfered the first year_set of data, it will start running the post processing jobs.\n",
    "\n",
    "![run in progress](../doc/run_in_process.png)\n",
    "\n",
    "* Uninterupted run in headless mode that wont stop if you close the terminal, writing to a custom log location, with no cleanup after completion\n",
    "```nohup workflow.py -c run.cfg --no-ui --log my_new_run.log --no-cleanup &```"
   ]
  },
  {
   "cell_type": "markdown",
   "metadata": {},
   "source": [
    "### Subsequent runs\n",
    "\n",
    "After your initial setup, to start new runs the only values you should need to change are\n",
    "```\n",
    "[global] output_path\n",
    "[global] data_cache_path\n",
    "[global] set_frequency\n",
    "[global] simulation_end_year\n",
    "[global] run_id\n",
    "[transfer] source_path\n",
    "```"
   ]
  },
  {
   "cell_type": "code",
   "execution_count": null,
   "metadata": {
    "collapsed": true
   },
   "outputs": [],
   "source": []
  }
 ],
 "metadata": {
  "anaconda-cloud": {},
  "kernelspec": {
   "display_name": "Python [Root]",
   "language": "python",
   "name": "Python [Root]"
  },
  "language_info": {
   "codemirror_mode": {
    "name": "ipython",
    "version": 2
   },
   "file_extension": ".py",
   "mimetype": "text/x-python",
   "name": "python",
   "nbconvert_exporter": "python",
   "pygments_lexer": "ipython2",
   "version": "2.7.12"
  }
 },
 "nbformat": 4,
 "nbformat_minor": 0
}
