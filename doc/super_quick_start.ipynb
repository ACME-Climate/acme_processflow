{
 "cells": [
  {
   "cell_type": "markdown",
   "metadata": {},
   "source": [
    "# Super Quick Start Guide \n",
    "\n",
    "Use this guide if you're already an acme1 or aims4 user.\n",
    "\n",
    "For a new run all you will need is to setup your runs configuration file. Make a copy of the sample config file\n",
    "```\n",
    "wget https://github.com/sterlingbaldwin/acme_workflow/blob/master/run.cfg\n",
    "``` \n",
    "Once you have the file, open it in your favorite editor. There are are 12 values that must be changed before you're ready to run. You can find an explanation of each of them [here](doc/quick_start_instructions.ipynb)\n",
    "\n",
    "The keys you need to change before running the first time are:\n",
    "```\n",
    "[global]\n",
    "output_path = /p/cscratch/acme/<YOUR_USERNAME>/output \n",
    "data_cache_path = /p/cscratch/acme/<YOUR_USERNAME>/input\n",
    "simulation_end_year = SOMENUMBER\n",
    "set_frequency = [LIST, OF, NUMBERS]\n",
    "run_id = YOUR_RUN_ID\n",
    "\n",
    "[monitor]\n",
    "compute_username = YOUR_EDISON_USERNAME\n",
    "compute_password = YOUR_EDISON_PASSWORD (optional)\n",
    "\n",
    "[transfer]\n",
    "source_path\n",
    "processing_username = YOU_ACME1_USERNAME\n",
    "processing_password = YOUR_ACME1_PASSWORD (optional)\n",
    "globus_username = YOUR_GLOBUS_USERNAME\n",
    "globus_password = YOUR_GLOBUS_PASSWORD (optional)\n",
    "```\n",
    "\n",
    "Once these are set, only the data_cache_path, output_path, and run_id need to be changed for each subsequent run.\n"
   ]
  },
  {
   "cell_type": "markdown",
   "metadata": {},
   "source": [
    "### Running\n",
    "\n",
    "* Once the setup process is done, running is simple. Simply activate your conda environment, and run the following command to start the post processor in interactive mode, which will start a new run, and start downloading the data.\n",
    "\n",
    "In interactive mode, if the terminal is closed or you log out, it will stop the process (but the runs managed by SLURM will continue). See below for headless mode instructions.\n",
    "\n",
    "    python workflow.py -c run.cfg\n",
    "\n",
    "![initial run](initial_run.png)\n",
    "\n",
    "Once globus has transfered the first year_set of data, it will start running the post processing jobs.\n",
    "\n",
    "![run in progress](run_in_process.png)\n",
    "\n",
    "\n",
    "### headless mode\n",
    "Uninterupted run in headless mode that wont stop if you close the terminal, writing to a custom log location, with no cleanup after completion\n",
    "```\n",
    "nohup python workflow.py -c run.cfg --no-ui --log my_new_run.log --no-cleanup &\n",
    "```\n",
    "\n",
    "This run can continue after you close the termincal and log off the computer. While running in headless mode, you can check run_state.txt for the run status.\n",
    "\n",
    "```\n",
    "less run_state.txt\n",
    "```\n",
    "\n",
    "![run_state](../doc/run_state.png)"
   ]
  },
  {
   "cell_type": "code",
   "execution_count": null,
   "metadata": {
    "collapsed": true
   },
   "outputs": [],
   "source": []
  }
 ],
 "metadata": {
  "kernelspec": {
   "display_name": "Python [conda env:acme2]",
   "language": "python",
   "name": "conda-env-acme2-py"
  },
  "language_info": {
   "codemirror_mode": {
    "name": "ipython",
    "version": 2
   },
   "file_extension": ".py",
   "mimetype": "text/x-python",
   "name": "python",
   "nbconvert_exporter": "python",
   "pygments_lexer": "ipython2",
   "version": "2.7.13"
  }
 },
 "nbformat": 4,
 "nbformat_minor": 2
}
